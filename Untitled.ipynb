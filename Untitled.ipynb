{
 "cells": [
  {
   "cell_type": "code",
   "execution_count": 34,
   "metadata": {},
   "outputs": [],
   "source": [
    "import requests\n",
    "from datetime import datetime"
   ]
  },
  {
   "cell_type": "code",
   "execution_count": 35,
   "metadata": {},
   "outputs": [],
   "source": [
    "token = 'BQCKiq9Bi9sK-PKRV4tT2ER6WUg4kXOn90rw216wERiZqSXrOk3GavU00J60C28xUUwfu4r3iQ9WppYZKJ2Xk-lyh25vCk8bretcc82uhieKaPrRyV3bD8KBK_G23AkyQDSQY5heQ79XAvze7gk1_3w4-2_HS73yAYNeFDkRvD5WN01N8_jS7eV8AvpdyjNPXRpQfzUREO3F2Y8I685qkP5ewjXsGxiGX5_Tm_LaxhBk5Nldo-e6s9g5o8RKiQU7Xh627MILNirUO78'"
   ]
  },
  {
   "cell_type": "code",
   "execution_count": 67,
   "metadata": {},
   "outputs": [],
   "source": [
    "def parseSpotifyPlayback(data):\n",
    "    item = data.get('item', data.get('track'))\n",
    "    return {\n",
    "        'id': item.get('id'),\n",
    "        'track_name': item.get('name'),\n",
    "        'artist_name': \", \".join([i['name'] for i in item.get('artists')]) if \n",
    "        'artists' in item else item.get('show', {}).get('publisher'),\n",
    "        'is_playing': data.get('is_playing'),\n",
    "        'progress_ms': data.get('progress_ms'),\n",
    "        'duration_ms': item.get('duration_ms'),\n",
    "        'played_at': data.get('played_at')\n",
    "    } if data else None"
   ]
  },
  {
   "cell_type": "code",
   "execution_count": 70,
   "metadata": {},
   "outputs": [
    {
     "data": {
      "text/plain": [
       "{'id': '78P3HrEdnEpsTgclMOIJup',\n",
       " 'track_name': 'City of the Future - Coming Soon!',\n",
       " 'artist_name': 'Sidewalk Labs',\n",
       " 'is_playing': True,\n",
       " 'progress_ms': 1378,\n",
       " 'duration_ms': 39523,\n",
       " 'played_at': None}"
      ]
     },
     "execution_count": 70,
     "metadata": {},
     "output_type": "execute_result"
    }
   ],
   "source": [
    "headers = {'Authorization': f'Bearer {token}'}\n",
    "resp = requests.get(\n",
    "    'https://api.spotify.com/v1/me/player/currently-playing',\n",
    "    headers = headers,\n",
    "    params = {'additional_types': 'episode'}\n",
    ").json()\n",
    "\n",
    "item = resp.get('items', [resp])[0]\n",
    "\n",
    "parseSpotifyPlayback(item)"
   ]
  },
  {
   "cell_type": "code",
   "execution_count": null,
   "metadata": {},
   "outputs": [],
   "source": []
  },
  {
   "cell_type": "code",
   "execution_count": null,
   "metadata": {},
   "outputs": [],
   "source": []
  }
 ],
 "metadata": {
  "kernelspec": {
   "display_name": "Python 3",
   "language": "python",
   "name": "python3"
  },
  "language_info": {
   "codemirror_mode": {
    "name": "ipython",
    "version": 3
   },
   "file_extension": ".py",
   "mimetype": "text/x-python",
   "name": "python",
   "nbconvert_exporter": "python",
   "pygments_lexer": "ipython3",
   "version": "3.6.10"
  }
 },
 "nbformat": 4,
 "nbformat_minor": 4
}
